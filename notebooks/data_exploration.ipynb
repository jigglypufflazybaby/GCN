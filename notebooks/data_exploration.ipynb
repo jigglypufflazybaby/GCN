{
 "cells": [
  {
   "cell_type": "code",
   "execution_count": null,
   "id": "7dea0921",
   "metadata": {
    "vscode": {
     "languageId": "plaintext"
    }
   },
   "outputs": [],
   "source": [
    "# This notebook should include code to explore and visualize your data.\n",
    "# Example:\n",
    "\n",
    "import matplotlib.pyplot as plt\n",
    "import numpy as np\n",
    "import pandas as pd\n",
    "\n",
    "# Load the processed CAD face data\n",
    "data = pd.read_json('path_to_processed_data.json')\n",
    "\n",
    "# Visualizing feature distributions\n",
    "plt.hist(data['area'], bins=20, edgecolor='black')\n",
    "plt.title('Face Area Distribution')\n",
    "plt.xlabel('Area')\n",
    "plt.ylabel('Frequency')\n",
    "plt.show()\n"
   ]
  }
 ],
 "metadata": {
  "language_info": {
   "name": "python"
  }
 },
 "nbformat": 4,
 "nbformat_minor": 5
}
